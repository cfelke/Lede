{
 "cells": [
  {
   "cell_type": "code",
   "execution_count": 1,
   "metadata": {},
   "outputs": [],
   "source": [
    "import requests\n",
    "import datetime\n",
    "right_now = datetime.datetime.now()\n",
    "date_string = right_now.strftime(\"%Y-%M\")"
   ]
  },
  {
   "cell_type": "code",
   "execution_count": 2,
   "metadata": {},
   "outputs": [],
   "source": [
    "response = requests.get('https://api.darksky.net/forecast/XXX/40.730610, -73.935242?units=si')\n",
    "data = response.json()\n",
    "NYC = 'https://api.darksky.net/forecast/XXX/40.730610, -73.935242?units=si'"
   ]
  },
  {
   "cell_type": "code",
   "execution_count": 3,
   "metadata": {},
   "outputs": [
    {
     "data": {
      "text/plain": [
       "{'time': 1529518290,\n",
       " 'summary': 'Partly Cloudy',\n",
       " 'icon': 'partly-cloudy-day',\n",
       " 'nearestStormDistance': 10,\n",
       " 'nearestStormBearing': 4,\n",
       " 'precipIntensity': 0,\n",
       " 'precipProbability': 0,\n",
       " 'temperature': 26.27,\n",
       " 'apparentTemperature': 26.27,\n",
       " 'dewPoint': 13.65,\n",
       " 'humidity': 0.46,\n",
       " 'pressure': 1010.4,\n",
       " 'windSpeed': 2.13,\n",
       " 'windGust': 2.93,\n",
       " 'windBearing': 163,\n",
       " 'cloudCover': 0.45,\n",
       " 'uvIndex': 7,\n",
       " 'visibility': 16.09,\n",
       " 'ozone': 303.72}"
      ]
     },
     "execution_count": 3,
     "metadata": {},
     "output_type": "execute_result"
    }
   ],
   "source": [
    "data['currently']"
   ]
  },
  {
   "cell_type": "code",
   "execution_count": 4,
   "metadata": {},
   "outputs": [
    {
     "data": {
      "text/plain": [
       "{'time': 1529467200,\n",
       " 'summary': 'Partly cloudy throughout the day.',\n",
       " 'icon': 'partly-cloudy-day',\n",
       " 'sunriseTime': 1529486750,\n",
       " 'sunsetTime': 1529541092,\n",
       " 'moonPhase': 0.26,\n",
       " 'precipIntensity': 0.0152,\n",
       " 'precipIntensityMax': 0.1092,\n",
       " 'precipIntensityMaxTime': 1529550000,\n",
       " 'precipProbability': 0.11,\n",
       " 'precipType': 'rain',\n",
       " 'temperatureHigh': 27.77,\n",
       " 'temperatureHighTime': 1529524800,\n",
       " 'temperatureLow': 19.34,\n",
       " 'temperatureLowTime': 1529575200,\n",
       " 'apparentTemperatureHigh': 27.86,\n",
       " 'apparentTemperatureHighTime': 1529528400,\n",
       " 'apparentTemperatureLow': 19.69,\n",
       " 'apparentTemperatureLowTime': 1529578800,\n",
       " 'dewPoint': 13.89,\n",
       " 'humidity': 0.56,\n",
       " 'pressure': 1010.65,\n",
       " 'windSpeed': 1.42,\n",
       " 'windGust': 7.09,\n",
       " 'windGustTime': 1529539200,\n",
       " 'windBearing': 135,\n",
       " 'cloudCover': 0.44,\n",
       " 'uvIndex': 8,\n",
       " 'uvIndexTime': 1529514000,\n",
       " 'visibility': 16.09,\n",
       " 'ozone': 301.74,\n",
       " 'temperatureMin': 20.12,\n",
       " 'temperatureMinTime': 1529488800,\n",
       " 'temperatureMax': 27.77,\n",
       " 'temperatureMaxTime': 1529524800,\n",
       " 'apparentTemperatureMin': 20.12,\n",
       " 'apparentTemperatureMinTime': 1529488800,\n",
       " 'apparentTemperatureMax': 27.86,\n",
       " 'apparentTemperatureMaxTime': 1529528400}"
      ]
     },
     "execution_count": 4,
     "metadata": {},
     "output_type": "execute_result"
    }
   ],
   "source": [
    "NYC_daily_forecast = data['daily']['data'][0]\n",
    "NYC_daily_forecast"
   ]
  },
  {
   "cell_type": "code",
   "execution_count": 5,
   "metadata": {},
   "outputs": [
    {
     "name": "stdout",
     "output_type": "stream",
     "text": [
      "Right now it is 26.27 degrees out and Partly Cloudy. Today will be humid and warm. Your favorite aka a NYC summer day, you know, with a high of 27.77 and a low of 19.34 .\n"
     ]
    }
   ],
   "source": [
    "temp_feeling = NYC_daily_forecast['temperatureHigh']\n",
    "if NYC_daily_forecast['temperatureHigh'] > 80:\n",
    "    temp_feeling == 'hot'\n",
    "elif NYC_daily_forecast['temperatureHigh'] > 93:\n",
    "    temp_feeling == 'super hot'\n",
    "else:\n",
    "    temp_feeling = 'humid and warm. Your favorite aka a NYC summer day, you know,'\n",
    "\n",
    "forecast = print(\"Right now it is\", data['currently']['temperature'], \"degrees out and\", data['currently']['summary']+\". Today will be\", temp_feeling, \"with a high of\", NYC_daily_forecast['temperatureHigh'], \"and a low of\", NYC_daily_forecast['temperatureLow'],\".\")\n",
    "if NYC_daily_forecast['precipProbability'] > 0.6:\n",
    "    print(\"Bring your umbrella!\")"
   ]
  },
  {
   "cell_type": "code",
   "execution_count": 6,
   "metadata": {},
   "outputs": [
    {
     "data": {
      "text/plain": [
       "'{\\n  \"id\": \"<20180620181130.1.620907C16DBC8BE7@sandboxb914b21bfc1e40c9ace09eabc483c359.mailgun.org>\",\\n  \"message\": \"Queued. Thank you.\"\\n}'"
      ]
     },
     "execution_count": 6,
     "metadata": {},
     "output_type": "execute_result"
    }
   ],
   "source": [
    "response = requests.post(\n",
    "        \"https://api.mailgun.net/v3/DOMAINNAME/messages\",\n",
    "        auth=(\"api\", \"XXX\"),\n",
    "        data={\"from\": \"Weathery <DOMAINNAME>\",\n",
    "              \"to\": [\"MAIL\"],\n",
    "              \"subject\": \"Good morning, Ninja: 8AM Weather forecast\" +right_now.strftime(\"%B-%d-%Y\"),\n",
    "              \"text\": \"print(forecast)\"})\n",
    "response.text"
   ]
  },
  {
   "cell_type": "code",
   "execution_count": null,
   "metadata": {},
   "outputs": [],
   "source": []
  }
 ],
 "metadata": {
  "kernelspec": {
   "display_name": "Python 3",
   "language": "python",
   "name": "python3"
  },
  "language_info": {
   "codemirror_mode": {
    "name": "ipython",
    "version": 3
   },
   "file_extension": ".py",
   "mimetype": "text/x-python",
   "name": "python",
   "nbconvert_exporter": "python",
   "pygments_lexer": "ipython3",
   "version": "3.6.1"
  }
 },
 "nbformat": 4,
 "nbformat_minor": 2
}
